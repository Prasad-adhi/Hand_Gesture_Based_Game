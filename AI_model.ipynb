{
 "cells": [
  {
   "cell_type": "code",
   "execution_count": 239,
   "metadata": {},
   "outputs": [],
   "source": [
    "import numpy as np\n",
    "import pandas as pd\n",
    "import matplotlib.pyplot as plt\n",
    "import seaborn as sns\n",
    "%matplotlib inline\n",
    "from sklearn.model_selection import train_test_split\n",
    "from sklearn.linear_model import LinearRegression\n",
    "from sklearn.metrics import mean_absolute_error,mean_squared_error,r2_score\n",
    "from sklearn.preprocessing import PolynomialFeatures\n",
    "from sklearn.linear_model import LassoCV\n",
    "from sklearn.linear_model import RidgeCV\n",
    "from sklearn.linear_model import ElasticNetCV\n",
    "from sklearn.ensemble import VotingRegressor\n",
    "import pickle"
   ]
  },
  {
   "cell_type": "code",
   "execution_count": 232,
   "metadata": {},
   "outputs": [],
   "source": [
    "df=pd.read_csv(\"Coordinates_1000_1.csv\")\n",
    "df1=pd.read_csv(\"Coordinates_2000_2.csv\")"
   ]
  },
  {
   "cell_type": "code",
   "execution_count": 167,
   "metadata": {},
   "outputs": [
    {
     "data": {
      "text/html": [
       "<div>\n",
       "<style scoped>\n",
       "    .dataframe tbody tr th:only-of-type {\n",
       "        vertical-align: middle;\n",
       "    }\n",
       "\n",
       "    .dataframe tbody tr th {\n",
       "        vertical-align: top;\n",
       "    }\n",
       "\n",
       "    .dataframe thead th {\n",
       "        text-align: right;\n",
       "    }\n",
       "</style>\n",
       "<table border=\"1\" class=\"dataframe\">\n",
       "  <thead>\n",
       "    <tr style=\"text-align: right;\">\n",
       "      <th></th>\n",
       "      <th>X_coor</th>\n",
       "      <th>Y_coor</th>\n",
       "      <th>left</th>\n",
       "      <th>labels</th>\n",
       "    </tr>\n",
       "  </thead>\n",
       "  <tbody>\n",
       "    <tr>\n",
       "      <th>0</th>\n",
       "      <td>5</td>\n",
       "      <td>46</td>\n",
       "      <td>1</td>\n",
       "      <td>21</td>\n",
       "    </tr>\n",
       "    <tr>\n",
       "      <th>1</th>\n",
       "      <td>18</td>\n",
       "      <td>99</td>\n",
       "      <td>0</td>\n",
       "      <td>59</td>\n",
       "    </tr>\n",
       "    <tr>\n",
       "      <th>2</th>\n",
       "      <td>1</td>\n",
       "      <td>108</td>\n",
       "      <td>0</td>\n",
       "      <td>67</td>\n",
       "    </tr>\n",
       "    <tr>\n",
       "      <th>3</th>\n",
       "      <td>21</td>\n",
       "      <td>111</td>\n",
       "      <td>1</td>\n",
       "      <td>70</td>\n",
       "    </tr>\n",
       "    <tr>\n",
       "      <th>4</th>\n",
       "      <td>56</td>\n",
       "      <td>55</td>\n",
       "      <td>0</td>\n",
       "      <td>65</td>\n",
       "    </tr>\n",
       "  </tbody>\n",
       "</table>\n",
       "</div>"
      ],
      "text/plain": [
       "   X_coor  Y_coor  left  labels\n",
       "0       5      46     1      21\n",
       "1      18      99     0      59\n",
       "2       1     108     0      67\n",
       "3      21     111     1      70\n",
       "4      56      55     0      65"
      ]
     },
     "execution_count": 167,
     "metadata": {},
     "output_type": "execute_result"
    }
   ],
   "source": [
    "df.head()"
   ]
  },
  {
   "cell_type": "code",
   "execution_count": 168,
   "metadata": {},
   "outputs": [
    {
     "data": {
      "text/html": [
       "<div>\n",
       "<style scoped>\n",
       "    .dataframe tbody tr th:only-of-type {\n",
       "        vertical-align: middle;\n",
       "    }\n",
       "\n",
       "    .dataframe tbody tr th {\n",
       "        vertical-align: top;\n",
       "    }\n",
       "\n",
       "    .dataframe thead th {\n",
       "        text-align: right;\n",
       "    }\n",
       "</style>\n",
       "<table border=\"1\" class=\"dataframe\">\n",
       "  <thead>\n",
       "    <tr style=\"text-align: right;\">\n",
       "      <th></th>\n",
       "      <th>X_coor</th>\n",
       "      <th>Y_coor</th>\n",
       "      <th>left</th>\n",
       "      <th>labels</th>\n",
       "    </tr>\n",
       "  </thead>\n",
       "  <tbody>\n",
       "    <tr>\n",
       "      <th>0</th>\n",
       "      <td>5</td>\n",
       "      <td>46</td>\n",
       "      <td>1</td>\n",
       "      <td>21</td>\n",
       "    </tr>\n",
       "    <tr>\n",
       "      <th>1</th>\n",
       "      <td>18</td>\n",
       "      <td>99</td>\n",
       "      <td>0</td>\n",
       "      <td>59</td>\n",
       "    </tr>\n",
       "    <tr>\n",
       "      <th>2</th>\n",
       "      <td>1</td>\n",
       "      <td>108</td>\n",
       "      <td>0</td>\n",
       "      <td>67</td>\n",
       "    </tr>\n",
       "    <tr>\n",
       "      <th>3</th>\n",
       "      <td>21</td>\n",
       "      <td>111</td>\n",
       "      <td>1</td>\n",
       "      <td>70</td>\n",
       "    </tr>\n",
       "    <tr>\n",
       "      <th>4</th>\n",
       "      <td>56</td>\n",
       "      <td>55</td>\n",
       "      <td>0</td>\n",
       "      <td>65</td>\n",
       "    </tr>\n",
       "    <tr>\n",
       "      <th>...</th>\n",
       "      <td>...</td>\n",
       "      <td>...</td>\n",
       "      <td>...</td>\n",
       "      <td>...</td>\n",
       "    </tr>\n",
       "    <tr>\n",
       "      <th>995</th>\n",
       "      <td>18</td>\n",
       "      <td>52</td>\n",
       "      <td>0</td>\n",
       "      <td>49</td>\n",
       "    </tr>\n",
       "    <tr>\n",
       "      <th>996</th>\n",
       "      <td>76</td>\n",
       "      <td>81</td>\n",
       "      <td>1</td>\n",
       "      <td>16</td>\n",
       "    </tr>\n",
       "    <tr>\n",
       "      <th>997</th>\n",
       "      <td>9</td>\n",
       "      <td>21</td>\n",
       "      <td>1</td>\n",
       "      <td>9</td>\n",
       "    </tr>\n",
       "    <tr>\n",
       "      <th>998</th>\n",
       "      <td>13</td>\n",
       "      <td>69</td>\n",
       "      <td>0</td>\n",
       "      <td>61</td>\n",
       "    </tr>\n",
       "    <tr>\n",
       "      <th>999</th>\n",
       "      <td>11</td>\n",
       "      <td>86</td>\n",
       "      <td>0</td>\n",
       "      <td>76</td>\n",
       "    </tr>\n",
       "  </tbody>\n",
       "</table>\n",
       "<p>1000 rows × 4 columns</p>\n",
       "</div>"
      ],
      "text/plain": [
       "     X_coor  Y_coor  left  labels\n",
       "0         5      46     1      21\n",
       "1        18      99     0      59\n",
       "2         1     108     0      67\n",
       "3        21     111     1      70\n",
       "4        56      55     0      65\n",
       "..      ...     ...   ...     ...\n",
       "995      18      52     0      49\n",
       "996      76      81     1      16\n",
       "997       9      21     1       9\n",
       "998      13      69     0      61\n",
       "999      11      86     0      76\n",
       "\n",
       "[1000 rows x 4 columns]"
      ]
     },
     "execution_count": 168,
     "metadata": {},
     "output_type": "execute_result"
    }
   ],
   "source": [
    "df"
   ]
  },
  {
   "cell_type": "code",
   "execution_count": 169,
   "metadata": {},
   "outputs": [],
   "source": [
    "x=df.drop('labels',axis=1)\n",
    "y=df['labels']"
   ]
  },
  {
   "cell_type": "code",
   "execution_count": 233,
   "metadata": {},
   "outputs": [],
   "source": [
    "x1=df1.drop('labels',axis=1)\n",
    "y1=df1['labels']"
   ]
  },
  {
   "cell_type": "code",
   "execution_count": 170,
   "metadata": {},
   "outputs": [],
   "source": [
    "x_train,x_test,y_train,y_test=train_test_split(x,y,test_size=0.3,random_state=101)"
   ]
  },
  {
   "cell_type": "markdown",
   "metadata": {},
   "source": [
    "## Linear regression"
   ]
  },
  {
   "cell_type": "code",
   "execution_count": 171,
   "metadata": {},
   "outputs": [],
   "source": [
    "mylm=LinearRegression()"
   ]
  },
  {
   "cell_type": "code",
   "execution_count": 172,
   "metadata": {},
   "outputs": [
    {
     "data": {
      "text/plain": [
       "LinearRegression()"
      ]
     },
     "execution_count": 172,
     "metadata": {},
     "output_type": "execute_result"
    }
   ],
   "source": [
    "mylm.fit(x_train,y_train)"
   ]
  },
  {
   "cell_type": "code",
   "execution_count": 173,
   "metadata": {},
   "outputs": [
    {
     "data": {
      "text/plain": [
       "50.19061141378414"
      ]
     },
     "execution_count": 173,
     "metadata": {},
     "output_type": "execute_result"
    }
   ],
   "source": [
    "mylm.intercept_"
   ]
  },
  {
   "cell_type": "code",
   "execution_count": 174,
   "metadata": {},
   "outputs": [
    {
     "data": {
      "text/html": [
       "<div>\n",
       "<style scoped>\n",
       "    .dataframe tbody tr th:only-of-type {\n",
       "        vertical-align: middle;\n",
       "    }\n",
       "\n",
       "    .dataframe tbody tr th {\n",
       "        vertical-align: top;\n",
       "    }\n",
       "\n",
       "    .dataframe thead th {\n",
       "        text-align: right;\n",
       "    }\n",
       "</style>\n",
       "<table border=\"1\" class=\"dataframe\">\n",
       "  <thead>\n",
       "    <tr style=\"text-align: right;\">\n",
       "      <th></th>\n",
       "      <th>Coefficient</th>\n",
       "    </tr>\n",
       "  </thead>\n",
       "  <tbody>\n",
       "    <tr>\n",
       "      <th>X_coor</th>\n",
       "      <td>-0.160677</td>\n",
       "    </tr>\n",
       "    <tr>\n",
       "      <th>Y_coor</th>\n",
       "      <td>0.021348</td>\n",
       "    </tr>\n",
       "    <tr>\n",
       "      <th>left</th>\n",
       "      <td>-15.064184</td>\n",
       "    </tr>\n",
       "  </tbody>\n",
       "</table>\n",
       "</div>"
      ],
      "text/plain": [
       "        Coefficient\n",
       "X_coor    -0.160677\n",
       "Y_coor     0.021348\n",
       "left     -15.064184"
      ]
     },
     "execution_count": 174,
     "metadata": {},
     "output_type": "execute_result"
    }
   ],
   "source": [
    "coeff_df=pd.DataFrame(mylm.coef_,x.columns,columns=['Coefficient'])\n",
    "coeff_df"
   ]
  },
  {
   "cell_type": "code",
   "execution_count": 175,
   "metadata": {},
   "outputs": [],
   "source": [
    "predictions=mylm.predict(x_test)"
   ]
  },
  {
   "cell_type": "code",
   "execution_count": 176,
   "metadata": {},
   "outputs": [
    {
     "data": {
      "text/plain": [
       "<matplotlib.collections.PathCollection at 0x1c683854f88>"
      ]
     },
     "execution_count": 176,
     "metadata": {},
     "output_type": "execute_result"
    },
    {
     "data": {
      "image/png": "[encoded data removed]",
      "text/plain": [
       "<Figure size 432x288 with 1 Axes>"
      ]
     },
     "metadata": {
      "needs_background": "light"
     },
     "output_type": "display_data"
    }
   ],
   "source": [
    "plt.scatter(y_test,predictions)"
   ]
  },
  {
   "cell_type": "code",
   "execution_count": 177,
   "metadata": {},
   "outputs": [],
   "source": [
    "def adjusted_r2(y_test,predictions):\n",
    "    n = df.shape[0]\n",
    "    p = x.shape[1]\n",
    "    r2 = r2_score(y_test, predictions)\n",
    "    adjusted_r2 = 1 - (((1 - r2) * (n - 1)) / (n - p - 1))\n",
    "    return adjusted_r2"
   ]
  },
  {
   "cell_type": "code",
   "execution_count": 178,
   "metadata": {},
   "outputs": [
    {
     "name": "stdout",
     "output_type": "stream",
     "text": [
      "Mean absolute error: 16.78543081230682\n",
      "Mean squared error: 405.80065807284683\n",
      "Mean sqrt error: 20.1444944854133\n",
      "R2 Score: 0.14927247735412263\n",
      "Adjusted R2 score: 0.14671004505699659\n",
      "Accuracy Score: 0.14927247735412263\n"
     ]
    }
   ],
   "source": [
    "print(\"Mean absolute error:\",metrics.mean_absolute_error(y_test,predictions))\n",
    "print(\"Mean squared error:\",metrics.mean_squared_error(y_test,predictions))\n",
    "print(\"Mean sqrt error:\",np.sqrt(metrics.mean_squared_error(y_test,predictions)))\n",
    "print(\"R2 Score:\",r2_score(y_test,predictions))\n",
    "print(\"Adjusted R2 score:\",adjusted_r2(y_test,predictions))\n",
    "print(\"Accuracy Score:\",mylm.score(x_test,y_test))"
   ]
  },
  {
   "cell_type": "markdown",
   "metadata": {},
   "source": [
    "## Polynomial features"
   ]
  },
  {
   "cell_type": "code",
   "execution_count": 179,
   "metadata": {},
   "outputs": [],
   "source": [
    "polyconv=PolynomialFeatures(degree=3,include_bias=False)\n",
    "polyfeat=polyconv.fit_transform(x)"
   ]
  },
  {
   "cell_type": "code",
   "execution_count": 180,
   "metadata": {},
   "outputs": [],
   "source": [
    "x_poly_train,x_poly_test,y_poly_train,y_poly_test=train_test_split(polyfeat,y,test_size=0.3,random_state=42)"
   ]
  },
  {
   "cell_type": "code",
   "execution_count": 181,
   "metadata": {},
   "outputs": [
    {
     "data": {
      "text/plain": [
       "LinearRegression()"
      ]
     },
     "execution_count": 181,
     "metadata": {},
     "output_type": "execute_result"
    }
   ],
   "source": [
    "pr=LinearRegression()\n",
    "pr.fit(x_poly_train,y_poly_train)"
   ]
  },
  {
   "cell_type": "code",
   "execution_count": 182,
   "metadata": {},
   "outputs": [],
   "source": [
    "poly_pred=pr.predict(x_poly_test)"
   ]
  },
  {
   "cell_type": "code",
   "execution_count": 183,
   "metadata": {},
   "outputs": [
    {
     "name": "stdout",
     "output_type": "stream",
     "text": [
      "Mean absolute error: 5.934967871458409\n",
      "Mean squared error: 65.2881509220906\n",
      "Mean sqrt error: 8.080108348412823\n",
      "R2 Score: 0.8698944604750989\n",
      "Adjusted R2 score: 0.8695025763199034\n"
     ]
    }
   ],
   "source": [
    "print(\"Mean absolute error:\",metrics.mean_absolute_error(y_poly_test,poly_pred))\n",
    "print(\"Mean squared error:\",metrics.mean_squared_error(y_poly_test,poly_pred))\n",
    "print(\"Mean sqrt error:\",np.sqrt(metrics.mean_squared_error(y_poly_test,poly_pred)))\n",
    "print(\"R2 Score:\",r2_score(y_poly_test,poly_pred))\n",
    "print(\"Adjusted R2 score:\",adjusted_r2(y_poly_test,poly_pred))"
   ]
  },
  {
   "cell_type": "code",
   "execution_count": 184,
   "metadata": {},
   "outputs": [
    {
     "data": {
      "text/plain": [
       "<matplotlib.collections.PathCollection at 0x1c6838c6a08>"
      ]
     },
     "execution_count": 184,
     "metadata": {},
     "output_type": "execute_result"
    },
    {
     "data": {
      "image/png": "[encoded data removed]",
      "text/plain": [
       "<Figure size 432x288 with 1 Axes>"
      ]
     },
     "metadata": {
      "needs_background": "light"
     },
     "output_type": "display_data"
    }
   ],
   "source": [
    "plt.scatter(y_poly_test,poly_pred)"
   ]
  },
  {
   "cell_type": "code",
   "execution_count": 240,
   "metadata": {},
   "outputs": [],
   "source": [
    "filename = 'ai_model.sav'"
   ]
  },
  {
   "cell_type": "code",
   "execution_count": 242,
   "metadata": {},
   "outputs": [],
   "source": [
    "pickle.dump(pr, open(filename, 'wb'))"
   ]
  },
  {
   "cell_type": "markdown",
   "metadata": {},
   "source": [
    "## Lasso regression"
   ]
  },
  {
   "cell_type": "code",
   "execution_count": 185,
   "metadata": {},
   "outputs": [],
   "source": [
    "lar=LassoCV(eps=0.001,n_alphas=100, max_iter=3000)"
   ]
  },
  {
   "cell_type": "code",
   "execution_count": 186,
   "metadata": {},
   "outputs": [
    {
     "data": {
      "text/plain": [
       "LassoCV(max_iter=3000)"
      ]
     },
     "execution_count": 186,
     "metadata": {},
     "output_type": "execute_result"
    }
   ],
   "source": [
    "lar.fit(x_train,y_train)"
   ]
  },
  {
   "cell_type": "code",
   "execution_count": 187,
   "metadata": {},
   "outputs": [
    {
     "data": {
      "text/plain": [
       "0.09133578775510195"
      ]
     },
     "execution_count": 187,
     "metadata": {},
     "output_type": "execute_result"
    }
   ],
   "source": [
    "lar.alpha_"
   ]
  },
  {
   "cell_type": "code",
   "execution_count": 188,
   "metadata": {},
   "outputs": [],
   "source": [
    "lass_pred=lar.predict(x_test)"
   ]
  },
  {
   "cell_type": "code",
   "execution_count": 189,
   "metadata": {},
   "outputs": [
    {
     "name": "stdout",
     "output_type": "stream",
     "text": [
      "Mean absolute error: 16.805023667877013\n",
      "Mean squared error: 405.9969528399147\n",
      "Mean sqrt error: 20.149366065460093\n",
      "R2 Score: 0.14886096160723084\n",
      "Adjusted R2 score: 0.14629728980484302\n"
     ]
    }
   ],
   "source": [
    "print(\"Mean absolute error:\",metrics.mean_absolute_error(y_test,lass_pred))\n",
    "print(\"Mean squared error:\",metrics.mean_squared_error(y_test,lass_pred))\n",
    "print(\"Mean sqrt error:\",np.sqrt(metrics.mean_squared_error(y_test,lass_pred)))\n",
    "print(\"R2 Score:\",r2_score(y_test,lass_pred))\n",
    "print(\"Adjusted R2 score:\",adjusted_r2(y_test,lass_pred))"
   ]
  },
  {
   "cell_type": "markdown",
   "metadata": {},
   "source": [
    "##  Polynomial"
   ]
  },
  {
   "cell_type": "code",
   "execution_count": 190,
   "metadata": {},
   "outputs": [],
   "source": [
    "lar=LassoCV(eps=0.001,n_alphas=100, max_iter=3000)"
   ]
  },
  {
   "cell_type": "code",
   "execution_count": 191,
   "metadata": {},
   "outputs": [
    {
     "data": {
      "text/plain": [
       "LassoCV(max_iter=3000)"
      ]
     },
     "execution_count": 191,
     "metadata": {},
     "output_type": "execute_result"
    }
   ],
   "source": [
    "lar.fit(x_poly_train,y_poly_train)"
   ]
  },
  {
   "cell_type": "code",
   "execution_count": 192,
   "metadata": {},
   "outputs": [
    {
     "data": {
      "text/plain": [
       "1526.7006798285713"
      ]
     },
     "execution_count": 192,
     "metadata": {},
     "output_type": "execute_result"
    }
   ],
   "source": [
    "lar.alpha_"
   ]
  },
  {
   "cell_type": "code",
   "execution_count": 193,
   "metadata": {},
   "outputs": [],
   "source": [
    "lass_pred=lar.predict(x_poly_test)"
   ]
  },
  {
   "cell_type": "code",
   "execution_count": 194,
   "metadata": {},
   "outputs": [
    {
     "name": "stdout",
     "output_type": "stream",
     "text": [
      "Mean absolute error: 13.044286747168126\n",
      "Mean squared error: 264.7199382519269\n",
      "Mean sqrt error: 16.270216293950334\n",
      "R2 Score: 0.47246889515426627\n",
      "Adjusted R2 score: 0.4708799460432852\n"
     ]
    }
   ],
   "source": [
    "print(\"Mean absolute error:\",metrics.mean_absolute_error(y_poly_test,lass_pred))\n",
    "print(\"Mean squared error:\",metrics.mean_squared_error(y_poly_test,lass_pred))\n",
    "print(\"Mean sqrt error:\",np.sqrt(metrics.mean_squared_error(y_poly_test,lass_pred)))\n",
    "print(\"R2 Score:\",r2_score(y_poly_test,lass_pred))\n",
    "print(\"Adjusted R2 score:\",adjusted_r2(y_poly_test,lass_pred))"
   ]
  },
  {
   "cell_type": "markdown",
   "metadata": {},
   "source": [
    "## Ridge regression"
   ]
  },
  {
   "cell_type": "code",
   "execution_count": 195,
   "metadata": {},
   "outputs": [],
   "source": [
    "rr=RidgeCV(alphas=(0.1, 1.0, 10.0),scoring='neg_mean_absolute_error')"
   ]
  },
  {
   "cell_type": "code",
   "execution_count": 196,
   "metadata": {},
   "outputs": [
    {
     "data": {
      "text/plain": [
       "RidgeCV(alphas=array([ 0.1,  1. , 10. ]), scoring='neg_mean_absolute_error')"
      ]
     },
     "execution_count": 196,
     "metadata": {},
     "output_type": "execute_result"
    }
   ],
   "source": [
    "rr.fit(x_train,y_train) "
   ]
  },
  {
   "cell_type": "code",
   "execution_count": 197,
   "metadata": {},
   "outputs": [],
   "source": [
    "rr_pred=rr.predict(x_test)"
   ]
  },
  {
   "cell_type": "code",
   "execution_count": 198,
   "metadata": {},
   "outputs": [
    {
     "name": "stdout",
     "output_type": "stream",
     "text": [
      "Mean absolute error: 16.785890094260502\n",
      "Mean squared error: 405.8047293556187\n",
      "Mean sqrt error: 20.14459553715633\n",
      "R2 Score: 0.14926394224645934\n",
      "Adjusted R2 score: 0.14670148424117768\n"
     ]
    }
   ],
   "source": [
    "print(\"Mean absolute error:\",metrics.mean_absolute_error(y_test,rr_pred))\n",
    "print(\"Mean squared error:\",metrics.mean_squared_error(y_test,rr_pred))\n",
    "print(\"Mean sqrt error:\",np.sqrt(metrics.mean_squared_error(y_test,rr_pred)))\n",
    "print(\"R2 Score:\",r2_score(y_test,rr_pred))\n",
    "print(\"Adjusted R2 score:\",adjusted_r2(y_test,rr_pred))"
   ]
  },
  {
   "cell_type": "markdown",
   "metadata": {},
   "source": [
    "## Polynomial features"
   ]
  },
  {
   "cell_type": "code",
   "execution_count": 199,
   "metadata": {},
   "outputs": [],
   "source": [
    "rr=RidgeCV(alphas=(0.1, 1.0, 10.0),scoring='neg_mean_absolute_error')"
   ]
  },
  {
   "cell_type": "code",
   "execution_count": 200,
   "metadata": {},
   "outputs": [
    {
     "data": {
      "text/plain": [
       "RidgeCV(alphas=array([ 0.1,  1. , 10. ]), scoring='neg_mean_absolute_error')"
      ]
     },
     "execution_count": 200,
     "metadata": {},
     "output_type": "execute_result"
    }
   ],
   "source": [
    "rr.fit(x_poly_train,y_poly_train) "
   ]
  },
  {
   "cell_type": "code",
   "execution_count": 201,
   "metadata": {},
   "outputs": [],
   "source": [
    "rr_pred=rr.predict(x_poly_test)"
   ]
  },
  {
   "cell_type": "code",
   "execution_count": 202,
   "metadata": {},
   "outputs": [
    {
     "name": "stdout",
     "output_type": "stream",
     "text": [
      "Mean absolute error: 6.089525942406325\n",
      "Mean squared error: 76.09566548758582\n",
      "Mean sqrt error: 8.723282953543684\n",
      "R2 Score: 0.8483573592766758\n",
      "Adjusted R2 score: 0.847900604334738\n"
     ]
    }
   ],
   "source": [
    "print(\"Mean absolute error:\",metrics.mean_absolute_error(y_poly_test,rr_pred))\n",
    "print(\"Mean squared error:\",metrics.mean_squared_error(y_poly_test,rr_pred))\n",
    "print(\"Mean sqrt error:\",np.sqrt(metrics.mean_squared_error(y_poly_test,rr_pred)))\n",
    "print(\"R2 Score:\",r2_score(y_poly_test,rr_pred))\n",
    "print(\"Adjusted R2 score:\",adjusted_r2(y_poly_test,rr_pred))"
   ]
  },
  {
   "cell_type": "code",
   "execution_count": 203,
   "metadata": {},
   "outputs": [
    {
     "data": {
      "text/plain": [
       "<matplotlib.collections.PathCollection at 0x1c6839420c8>"
      ]
     },
     "execution_count": 203,
     "metadata": {},
     "output_type": "execute_result"
    },
    {
     "data": {
      "image/png": "[encoded data removed]",
      "text/plain": [
       "<Figure size 432x288 with 1 Axes>"
      ]
     },
     "metadata": {
      "needs_background": "light"
     },
     "output_type": "display_data"
    }
   ],
   "source": [
    "plt.scatter(y_poly_test,rr_pred)"
   ]
  },
  {
   "cell_type": "markdown",
   "metadata": {},
   "source": [
    "## Elastic net"
   ]
  },
  {
   "cell_type": "code",
   "execution_count": 204,
   "metadata": {},
   "outputs": [],
   "source": [
    "enr=ElasticNetCV(l1_ratio=[.1, .5, .7,.9, .95, .99, 1],tol=0.01,max_iter=2000)"
   ]
  },
  {
   "cell_type": "code",
   "execution_count": 205,
   "metadata": {},
   "outputs": [
    {
     "data": {
      "text/plain": [
       "ElasticNetCV(l1_ratio=[0.1, 0.5, 0.7, 0.9, 0.95, 0.99, 1], max_iter=2000,\n",
       "             tol=0.01)"
      ]
     },
     "execution_count": 205,
     "metadata": {},
     "output_type": "execute_result"
    }
   ],
   "source": [
    "enr.fit(x_train,y_train)"
   ]
  },
  {
   "cell_type": "code",
   "execution_count": 206,
   "metadata": {},
   "outputs": [
    {
     "data": {
      "text/plain": [
       "0.09133578775510195"
      ]
     },
     "execution_count": 206,
     "metadata": {},
     "output_type": "execute_result"
    }
   ],
   "source": [
    "enr.alpha_"
   ]
  },
  {
   "cell_type": "code",
   "execution_count": 207,
   "metadata": {},
   "outputs": [
    {
     "data": {
      "text/plain": [
       "1.0"
      ]
     },
     "execution_count": 207,
     "metadata": {},
     "output_type": "execute_result"
    }
   ],
   "source": [
    "enr.l1_ratio_"
   ]
  },
  {
   "cell_type": "code",
   "execution_count": 208,
   "metadata": {},
   "outputs": [],
   "source": [
    "ela_pred=enr.predict(x_test)"
   ]
  },
  {
   "cell_type": "code",
   "execution_count": 209,
   "metadata": {},
   "outputs": [
    {
     "name": "stdout",
     "output_type": "stream",
     "text": [
      "Mean absolute error: 16.805023667877013\n",
      "Mean squared error: 405.9969528399147\n",
      "Mean sqrt error: 20.149366065460093\n",
      "R2 Score: 0.14886096160723084\n",
      "Adjusted R2 score: 0.14629728980484302\n"
     ]
    }
   ],
   "source": [
    "print(\"Mean absolute error:\",metrics.mean_absolute_error(y_test,ela_pred))\n",
    "print(\"Mean squared error:\",metrics.mean_squared_error(y_test,ela_pred))\n",
    "print(\"Mean sqrt error:\",np.sqrt(metrics.mean_squared_error(y_test,ela_pred)))\n",
    "print(\"R2 Score:\",r2_score(y_test,ela_pred))\n",
    "print(\"Adjusted R2 score:\",adjusted_r2(y_test,ela_pred))"
   ]
  },
  {
   "cell_type": "markdown",
   "metadata": {},
   "source": [
    "## Polynomial features"
   ]
  },
  {
   "cell_type": "code",
   "execution_count": 210,
   "metadata": {},
   "outputs": [],
   "source": [
    "enr=ElasticNetCV(l1_ratio=[.1, .5, .7,.9, .95, .99, 1],tol=0.01,max_iter=2000)"
   ]
  },
  {
   "cell_type": "code",
   "execution_count": 211,
   "metadata": {},
   "outputs": [
    {
     "data": {
      "text/plain": [
       "ElasticNetCV(l1_ratio=[0.1, 0.5, 0.7, 0.9, 0.95, 0.99, 1], max_iter=2000,\n",
       "             tol=0.01)"
      ]
     },
     "execution_count": 211,
     "metadata": {},
     "output_type": "execute_result"
    }
   ],
   "source": [
    "enr.fit(x_poly_train,y_poly_train)"
   ]
  },
  {
   "cell_type": "code",
   "execution_count": 212,
   "metadata": {},
   "outputs": [
    {
     "data": {
      "text/plain": [
       "1526.7006798285713"
      ]
     },
     "execution_count": 212,
     "metadata": {},
     "output_type": "execute_result"
    }
   ],
   "source": [
    "enr.alpha_"
   ]
  },
  {
   "cell_type": "code",
   "execution_count": 213,
   "metadata": {},
   "outputs": [
    {
     "data": {
      "text/plain": [
       "1.0"
      ]
     },
     "execution_count": 213,
     "metadata": {},
     "output_type": "execute_result"
    }
   ],
   "source": [
    "enr.l1_ratio_"
   ]
  },
  {
   "cell_type": "code",
   "execution_count": 214,
   "metadata": {},
   "outputs": [],
   "source": [
    "ela_pred=enr.predict(x_poly_test)"
   ]
  },
  {
   "cell_type": "code",
   "execution_count": 215,
   "metadata": {},
   "outputs": [
    {
     "name": "stdout",
     "output_type": "stream",
     "text": [
      "Mean absolute error: 13.046853941460029\n",
      "Mean squared error: 264.8005242798469\n",
      "Mean sqrt error: 16.272692594646003\n",
      "R2 Score: 0.4723083041665813\n",
      "Adjusted R2 score: 0.470718871347806\n"
     ]
    }
   ],
   "source": [
    "print(\"Mean absolute error:\",metrics.mean_absolute_error(y_poly_test,ela_pred))\n",
    "print(\"Mean squared error:\",metrics.mean_squared_error(y_poly_test,ela_pred))\n",
    "print(\"Mean sqrt error:\",np.sqrt(metrics.mean_squared_error(y_poly_test,ela_pred)))\n",
    "print(\"R2 Score:\",r2_score(y_poly_test,ela_pred))\n",
    "print(\"Adjusted R2 score:\",adjusted_r2(y_poly_test,ela_pred))"
   ]
  },
  {
   "cell_type": "markdown",
   "metadata": {},
   "source": [
    "## Voting regressor"
   ]
  },
  {
   "cell_type": "code",
   "execution_count": 216,
   "metadata": {},
   "outputs": [],
   "source": [
    "lr=LinearRegression()\n",
    "lar=LassoCV(eps=0.001,n_alphas=100, max_iter=3000)\n",
    "rr=RidgeCV(alphas=(0.1, 1.0, 10.0),scoring='neg_mean_absolute_error')\n",
    "enr=ElasticNetCV(l1_ratio=[.1, .5, .7,.9, .95, .99, 1],tol=0.01,max_iter=2000)"
   ]
  },
  {
   "cell_type": "code",
   "execution_count": 217,
   "metadata": {},
   "outputs": [],
   "source": [
    "vr=VotingRegressor([('lr',lr),('lar',lar),('rr',rr),('enr',enr)])"
   ]
  },
  {
   "cell_type": "code",
   "execution_count": 218,
   "metadata": {},
   "outputs": [
    {
     "data": {
      "text/plain": [
       "VotingRegressor(estimators=[('lr', LinearRegression()),\n",
       "                            ('lar', LassoCV(max_iter=3000)),\n",
       "                            ('rr',\n",
       "                             RidgeCV(alphas=array([ 0.1,  1. , 10. ]),\n",
       "                                     scoring='neg_mean_absolute_error')),\n",
       "                            ('enr',\n",
       "                             ElasticNetCV(l1_ratio=[0.1, 0.5, 0.7, 0.9, 0.95,\n",
       "                                                    0.99, 1],\n",
       "                                          max_iter=2000, tol=0.01))])"
      ]
     },
     "execution_count": 218,
     "metadata": {},
     "output_type": "execute_result"
    }
   ],
   "source": [
    "vr.fit(x_train,y_train)"
   ]
  },
  {
   "cell_type": "code",
   "execution_count": 219,
   "metadata": {},
   "outputs": [],
   "source": [
    "vr_pred=vr.predict(x_test)"
   ]
  },
  {
   "cell_type": "code",
   "execution_count": 220,
   "metadata": {},
   "outputs": [
    {
     "name": "stdout",
     "output_type": "stream",
     "text": [
      "Mean absolute error: 16.79534206058034\n",
      "Mean squared error: 405.8915853291226\n",
      "Mean sqrt error: 20.146751235102958\n",
      "R2 Score: 0.1490818558804171\n",
      "Adjusted R2 score: 0.1465188494222256\n"
     ]
    }
   ],
   "source": [
    "print(\"Mean absolute error:\",metrics.mean_absolute_error(y_test,vr_pred))\n",
    "print(\"Mean squared error:\",metrics.mean_squared_error(y_test,vr_pred))\n",
    "print(\"Mean sqrt error:\",np.sqrt(metrics.mean_squared_error(y_test,vr_pred)))\n",
    "print(\"R2 Score:\",r2_score(y_test,vr_pred))\n",
    "print(\"Adjusted R2 score:\",adjusted_r2(y_test,vr_pred))"
   ]
  },
  {
   "cell_type": "markdown",
   "metadata": {},
   "source": [
    "## Polynomial features"
   ]
  },
  {
   "cell_type": "code",
   "execution_count": 221,
   "metadata": {},
   "outputs": [],
   "source": [
    "lr=LinearRegression()\n",
    "lar=LassoCV(eps=0.001,n_alphas=100, max_iter=3000)\n",
    "rr=RidgeCV(alphas=(0.1, 1.0, 10.0),scoring='neg_mean_absolute_error')\n",
    "enr=ElasticNetCV(l1_ratio=[.1, .5, .7,.9, .95, .99, 1],tol=0.01,max_iter=2000)"
   ]
  },
  {
   "cell_type": "code",
   "execution_count": 222,
   "metadata": {},
   "outputs": [],
   "source": [
    "vr=VotingRegressor([('lr',lr),('lar',lar),('rr',rr),('enr',enr)])"
   ]
  },
  {
   "cell_type": "code",
   "execution_count": 223,
   "metadata": {},
   "outputs": [
    {
     "data": {
      "text/plain": [
       "VotingRegressor(estimators=[('lr', LinearRegression()),\n",
       "                            ('lar', LassoCV(max_iter=3000)),\n",
       "                            ('rr',\n",
       "                             RidgeCV(alphas=array([ 0.1,  1. , 10. ]),\n",
       "                                     scoring='neg_mean_absolute_error')),\n",
       "                            ('enr',\n",
       "                             ElasticNetCV(l1_ratio=[0.1, 0.5, 0.7, 0.9, 0.95,\n",
       "                                                    0.99, 1],\n",
       "                                          max_iter=2000, tol=0.01))])"
      ]
     },
     "execution_count": 223,
     "metadata": {},
     "output_type": "execute_result"
    }
   ],
   "source": [
    "vr.fit(x_poly_train,y_poly_train)"
   ]
  },
  {
   "cell_type": "code",
   "execution_count": 224,
   "metadata": {},
   "outputs": [],
   "source": [
    "vr_pred=vr.predict(x_poly_test)"
   ]
  },
  {
   "cell_type": "code",
   "execution_count": 225,
   "metadata": {},
   "outputs": [
    {
     "name": "stdout",
     "output_type": "stream",
     "text": [
      "Mean absolute error: 7.896992049805834\n",
      "Mean squared error: 111.0041882745787\n",
      "Mean sqrt error: 10.535852517693037\n",
      "R2 Score: 0.7787920227328547\n",
      "Adjusted R2 score: 0.7781257336447007\n"
     ]
    }
   ],
   "source": [
    "print(\"Mean absolute error:\",metrics.mean_absolute_error(y_poly_test,vr_pred))\n",
    "print(\"Mean squared error:\",metrics.mean_squared_error(y_poly_test,vr_pred))\n",
    "print(\"Mean sqrt error:\",np.sqrt(metrics.mean_squared_error(y_poly_test,vr_pred)))\n",
    "print(\"R2 Score:\",r2_score(y_poly_test,vr_pred))\n",
    "print(\"Adjusted R2 score:\",adjusted_r2(y_poly_test,vr_pred))"
   ]
  },
  {
   "cell_type": "markdown",
   "metadata": {},
   "source": [
    "## Testing dataset"
   ]
  },
  {
   "cell_type": "code",
   "execution_count": 234,
   "metadata": {},
   "outputs": [],
   "source": [
    "polyconv=PolynomialFeatures(degree=3,include_bias=False)\n",
    "polyfeat=polyconv.fit_transform(x1)"
   ]
  },
  {
   "cell_type": "code",
   "execution_count": 235,
   "metadata": {},
   "outputs": [],
   "source": [
    "test_pred=pr.predict(polyfeat)"
   ]
  },
  {
   "cell_type": "code",
   "execution_count": 236,
   "metadata": {},
   "outputs": [
    {
     "name": "stdout",
     "output_type": "stream",
     "text": [
      "Mean absolute error: 6.109207442868285\n",
      "Mean squared error: 82.93203004186083\n",
      "Mean sqrt error: 9.106702479045905\n",
      "R2 Score: 0.8394629253551091\n",
      "Adjusted R2 score: 0.8389793799495522\n"
     ]
    }
   ],
   "source": [
    "print(\"Mean absolute error:\",metrics.mean_absolute_error(y1,test_pred))\n",
    "print(\"Mean squared error:\",metrics.mean_squared_error(y1,test_pred))\n",
    "print(\"Mean sqrt error:\",np.sqrt(metrics.mean_squared_error(y1,test_pred)))\n",
    "print(\"R2 Score:\",r2_score(y1,test_pred))\n",
    "print(\"Adjusted R2 score:\",adjusted_r2(y1,test_pred))"
   ]
  },
  {
   "cell_type": "code",
   "execution_count": 237,
   "metadata": {},
   "outputs": [
    {
     "data": {
      "text/plain": [
       "<matplotlib.collections.PathCollection at 0x1c6849e95c8>"
      ]
     },
     "execution_count": 237,
     "metadata": {},
     "output_type": "execute_result"
    },
    {
     "data": {
      "image/png": "[encoded data removed]",
      "text/plain": [
       "<Figure size 432x288 with 1 Axes>"
      ]
     },
     "metadata": {
      "needs_background": "light"
     },
     "output_type": "display_data"
    }
   ],
   "source": [
    "plt.scatter(y_poly_test,poly_pred)"
   ]
  },
  {
   "cell_type": "code",
   "execution_count": null,
   "metadata": {},
   "outputs": [],
   "source": []
  }
 ],
 "metadata": {
  "kernelspec": {
   "display_name": "Python 3",
   "language": "python",
   "name": "python3"
  },
  "language_info": {
   "codemirror_mode": {
    "name": "ipython",
    "version": 3
   },
   "file_extension": ".py",
   "mimetype": "text/x-python",
   "name": "python",
   "nbconvert_exporter": "python",
   "pygments_lexer": "ipython3",
   "version": "3.7.6"
  }
 },
 "nbformat": 4,
 "nbformat_minor": 4
}
